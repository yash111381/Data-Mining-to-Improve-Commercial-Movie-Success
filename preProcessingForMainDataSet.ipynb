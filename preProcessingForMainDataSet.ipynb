{
 "cells": [
  {
   "cell_type": "code",
   "execution_count": 1,
   "metadata": {
    "collapsed": true
   },
   "outputs": [],
   "source": [
    "from __future__ import print_function\n",
    "\n",
    "import matplotlib.pyplot as plt\n",
    "import os\n",
    "import pandas as pd\n",
    "import numpy as np\n",
    "#import seaborn as sns\n",
    "from sklearn.feature_extraction.text import CountVectorizer\n",
    "from sklearn import linear_model, pipeline\n",
    "#import category_encoders as ce\n",
    "import io\n",
    "\n",
    "from sklearn import preprocessing\n",
    "from collections import defaultdict"
   ]
  },
  {
   "cell_type": "code",
   "execution_count": 18,
   "metadata": {
    "collapsed": false
   },
   "outputs": [],
   "source": [
    "primaryData = pd.read_csv(\"movie_metadata.csv\")\n",
    "#primaryData.head()"
   ]
  },
  {
   "cell_type": "markdown",
   "metadata": {},
   "source": [
    "## Replace all NaN(null) values with 0 in director_facebook_likes,  actor_1_facebook_likes, actor_2_facebook_likes, actor_3_facebook_likes, movie_facebook_likes"
   ]
  },
  {
   "cell_type": "code",
   "execution_count": 17,
   "metadata": {
    "collapsed": false
   },
   "outputs": [],
   "source": [
    "primaryData['director_facebook_likes'].fillna(0, inplace = True)\n",
    "primaryData['actor_1_facebook_likes'].fillna(0, inplace = True)\n",
    "primaryData['actor_2_facebook_likes'].fillna(0, inplace = True)\n",
    "primaryData['actor_3_facebook_likes'].fillna(0, inplace = True)\n",
    "primaryData['movie_facebook_likes'].fillna(0, inplace = True)\n",
    "#primaryData.head()"
   ]
  },
  {
   "cell_type": "markdown",
   "metadata": {},
   "source": [
    "## Now, calculate total likes' weightage and place it in new column"
   ]
  },
  {
   "cell_type": "code",
   "execution_count": 19,
   "metadata": {
    "collapsed": false
   },
   "outputs": [
    {
     "data": {
      "text/plain": [
       "<_io.StringIO at 0xc902408>"
      ]
     },
     "execution_count": 19,
     "metadata": {},
     "output_type": "execute_result"
    }
   ],
   "source": [
    "primaryData['totalLikes'] = (0.9 * primaryData['director_facebook_likes']) + primaryData['actor_1_facebook_likes'] + primaryData['actor_2_facebook_likes'] + primaryData['actor_3_facebook_likes'] + primaryData['movie_facebook_likes']\n",
    "#del primaryData['temp']\n",
    "io.StringIO(primaryData.to_csv(\"movie_metadata_primary.csv\",index=False,sep=\",\"))\n",
    "#primaryData.head()\n"
   ]
  },
  {
   "cell_type": "code",
   "execution_count": null,
   "metadata": {
    "collapsed": true
   },
   "outputs": [],
   "source": []
  }
 ],
 "metadata": {
  "anaconda-cloud": {},
  "kernelspec": {
   "display_name": "Python [Root]",
   "language": "python",
   "name": "Python [Root]"
  },
  "language_info": {
   "codemirror_mode": {
    "name": "ipython",
    "version": 2
   },
   "file_extension": ".py",
   "mimetype": "text/x-python",
   "name": "python",
   "nbconvert_exporter": "python",
   "pygments_lexer": "ipython2",
   "version": "2.7.12"
  }
 },
 "nbformat": 4,
 "nbformat_minor": 0
}

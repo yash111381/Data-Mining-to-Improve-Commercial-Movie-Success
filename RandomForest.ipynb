{
 "cells": [
  {
   "cell_type": "code",
   "execution_count": 1,
   "metadata": {
    "collapsed": true
   },
   "outputs": [],
   "source": [
    "import pandas as pd\n",
    "from sklearn.metrics import accuracy_score\n",
    "from sklearn.ensemble import RandomForestClassifier\n",
    "clf = RandomForestClassifier(n_estimators=10)"
   ]
  },
  {
   "cell_type": "code",
   "execution_count": 2,
   "metadata": {
    "collapsed": true
   },
   "outputs": [],
   "source": [
    "#data extraction\n",
    "data = pd.read_csv(\"movie_metadata_secondary.csv\")\n",
    "\n",
    "# x_train\n",
    "x_train_attri = [\"director_facebook_likes\", \"actor_1_facebook_likes\", \"imdb_score\"]\n",
    "x_train_all = data[x_train_attri]\n",
    "x_train = x_train_all[:4200]\n",
    "x_train\n",
    "\n",
    "# y_train\n",
    "y_train_all = data[\"Norm_Gross\"]\n",
    "y_train = y_train_all[:4200]\n",
    "\n",
    "# x_test\n",
    "x_test_all = data[x_train_attri]\n",
    "x_test = x_test_all[4300:4500]\n",
    "x_test\n",
    "\n",
    "# y_test\n",
    "y_test = y_train_all[4300:4500]"
   ]
  },
  {
   "cell_type": "code",
   "execution_count": 3,
   "metadata": {
    "collapsed": true
   },
   "outputs": [],
   "source": [
    "clf = clf.fit(x_train, y_train)"
   ]
  },
  {
   "cell_type": "code",
   "execution_count": 4,
   "metadata": {
    "collapsed": false
   },
   "outputs": [
    {
     "name": "stdout",
     "output_type": "stream",
     "text": [
      "0.265\n"
     ]
    }
   ],
   "source": [
    "#Predict Output\n",
    "predicted= clf.predict(x_test)\n",
    "# get the accuracy\n",
    "print accuracy_score(y_test, predicted)"
   ]
  },
  {
   "cell_type": "code",
   "execution_count": null,
   "metadata": {
    "collapsed": true
   },
   "outputs": [],
   "source": []
  }
 ],
 "metadata": {
  "anaconda-cloud": {},
  "kernelspec": {
   "display_name": "Python [Root]",
   "language": "python",
   "name": "Python [Root]"
  },
  "language_info": {
   "codemirror_mode": {
    "name": "ipython",
    "version": 2
   },
   "file_extension": ".py",
   "mimetype": "text/x-python",
   "name": "python",
   "nbconvert_exporter": "python",
   "pygments_lexer": "ipython2",
   "version": "2.7.12"
  }
 },
 "nbformat": 4,
 "nbformat_minor": 0
}

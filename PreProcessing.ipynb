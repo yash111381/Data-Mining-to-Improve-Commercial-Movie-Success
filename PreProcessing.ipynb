{
 "cells": [
  {
   "cell_type": "code",
   "execution_count": 1,
   "metadata": {
    "collapsed": false
   },
   "outputs": [],
   "source": [
    "from __future__ import print_function\n",
    "\n",
    "import matplotlib.pyplot as plt\n",
    "import os\n",
    "import pandas as pd\n",
    "import numpy as np\n",
    "#import seaborn as sns\n",
    "from sklearn.feature_extraction.text import CountVectorizer\n",
    "from sklearn import linear_model, pipeline\n",
    "#import category_encoders as ce\n",
    "import io\n",
    "\n",
    "from sklearn import preprocessing\n",
    "from collections import defaultdict"
   ]
  },
  {
   "cell_type": "markdown",
   "metadata": {},
   "source": [
    "## This is the main data set with original values\n"
   ]
  },
  {
   "cell_type": "code",
   "execution_count": 72,
   "metadata": {
    "collapsed": false
   },
   "outputs": [],
   "source": [
    "main_df = pd.read_csv(\"movie_metadata.csv\")\n",
    "#main_df.count"
   ]
  },
  {
   "cell_type": "markdown",
   "metadata": {},
   "source": [
    "## This is the data set with director's fb likes = 0 removed!!!"
   ]
  },
  {
   "cell_type": "code",
   "execution_count": 64,
   "metadata": {
    "collapsed": false
   },
   "outputs": [],
   "source": [
    "director_fb_df = main_df[main_df.director_facebook_likes != 0]  \n",
    "#director_fb_df\n"
   ]
  },
  {
   "cell_type": "markdown",
   "metadata": {},
   "source": [
    "## This is actor 1 with fb likes <= 100 replaced with median"
   ]
  },
  {
   "cell_type": "code",
   "execution_count": 67,
   "metadata": {
    "collapsed": false,
    "scrolled": true
   },
   "outputs": [],
   "source": [
    "actor1Median = director_fb_df['actor_1_facebook_likes'].median()\n",
    "#print(actor1Median)\n",
    "director_fb_df['actor_1_facebook_likes'].replace(range(0, 100), actor1Median)\n",
    "director_fb_df = director_fb_df[director_fb_df.actor_1_facebook_likes != 0] \n",
    "#director_fb_df"
   ]
  },
  {
   "cell_type": "markdown",
   "metadata": {},
   "source": [
    "## This is actor 2 with fb likes <= 100 replaced with median"
   ]
  },
  {
   "cell_type": "code",
   "execution_count": 69,
   "metadata": {
    "collapsed": false
   },
   "outputs": [],
   "source": [
    "actor2Median = director_fb_df['actor_2_facebook_likes'].median()\n",
    "#print(actor2Median)\n",
    "director_fb_df['actor_2_facebook_likes'].replace(range(0, 100), actor2Median)\n",
    "director_fb_df = director_fb_df[director_fb_df.actor_2_facebook_likes != 0] \n",
    "#director_fb_df"
   ]
  },
  {
   "cell_type": "markdown",
   "metadata": {},
   "source": [
    "## This is actor 3 with fb likes <= 100 replaced with median"
   ]
  },
  {
   "cell_type": "code",
   "execution_count": 73,
   "metadata": {
    "collapsed": false
   },
   "outputs": [],
   "source": [
    "actor3Median = director_fb_df['actor_3_facebook_likes'].median()\n",
    "#print(actor3Median)\n",
    "director_fb_df['actor_3_facebook_likes'].replace(range(0, 100), actor3Median)\n",
    "director_fb_df = director_fb_df[director_fb_df.actor_3_facebook_likes != 0] \n",
    "#director_fb_df"
   ]
  },
  {
   "cell_type": "markdown",
   "metadata": {},
   "source": [
    "## Gross null values are sent into test data set and then removed in original data set"
   ]
  },
  {
   "cell_type": "code",
   "execution_count": 87,
   "metadata": {
    "collapsed": false
   },
   "outputs": [],
   "source": [
    "grossForTest_df = director_fb_df[director_fb_df['gross'].isnull()]\n",
    "io.StringIO(grossForTest_df.to_csv(\"movie_metadata_test.csv\",index=False,sep=\",\"))\n",
    "\n",
    "grossForTrain_df = director_fb_df[director_fb_df['gross'].notnull()]\n",
    "#grossForTrain_df"
   ]
  },
  {
   "cell_type": "markdown",
   "metadata": {},
   "source": [
    "## This is about cast-total fb likes < 100 removed!!!"
   ]
  },
  {
   "cell_type": "code",
   "execution_count": 91,
   "metadata": {
    "collapsed": false
   },
   "outputs": [],
   "source": [
    "totalFbLikes_df = grossForTrain_df[grossForTrain_df.cast_total_facebook_likes >= 100]\n",
    "#totalFbLikes_df"
   ]
  },
  {
   "cell_type": "code",
   "execution_count": null,
   "metadata": {
    "collapsed": true
   },
   "outputs": [],
   "source": []
  }
 ],
 "metadata": {
  "anaconda-cloud": {},
  "kernelspec": {
   "display_name": "Python [Root]",
   "language": "python",
   "name": "Python [Root]"
  },
  "language_info": {
   "codemirror_mode": {
    "name": "ipython",
    "version": 2
   },
   "file_extension": ".py",
   "mimetype": "text/x-python",
   "name": "python",
   "nbconvert_exporter": "python",
   "pygments_lexer": "ipython2",
   "version": "2.7.12"
  }
 },
 "nbformat": 4,
 "nbformat_minor": 0
}
